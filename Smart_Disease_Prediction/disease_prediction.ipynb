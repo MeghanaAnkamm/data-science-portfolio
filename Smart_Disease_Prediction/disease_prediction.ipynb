{
 "cells": [
  {
   "cell_type": "markdown",
   "id": "3aecba7b",
   "metadata": {},
   "source": [
    "# 🧠 Smart Disease Prediction using Machine Learning\n",
    "**Created by Meghana Ankam**"
   ]
  },
  {
   "cell_type": "code",
   "execution_count": null,
   "id": "631aea28",
   "metadata": {},
   "outputs": [],
   "source": [
    "import pandas as pd\n",
    "import matplotlib.pyplot as plt\n",
    "import seaborn as sns\n",
    "from sklearn.model_selection import train_test_split\n",
    "from sklearn.naive_bayes import MultinomialNB\n",
    "from sklearn.metrics import accuracy_score, classification_report"
   ]
  },
  {
   "cell_type": "code",
   "execution_count": null,
   "id": "c30cb433",
   "metadata": {},
   "outputs": [],
   "source": [
    "df = pd.read_csv('symptom_disease_data.csv')\n",
    "df.head()"
   ]
  },
  {
   "cell_type": "code",
   "execution_count": null,
   "id": "e330b09f",
   "metadata": {},
   "outputs": [],
   "source": [
    "df.info()"
   ]
  },
  {
   "cell_type": "code",
   "execution_count": null,
   "id": "6de19280",
   "metadata": {},
   "outputs": [],
   "source": [
    "df.describe()"
   ]
  },
  {
   "cell_type": "code",
   "execution_count": null,
   "id": "943f8be5",
   "metadata": {},
   "outputs": [],
   "source": [
    "df['disease'].value_counts().plot(kind='bar', title='Disease Distribution')\n",
    "plt.ylabel('Count')\n",
    "plt.xlabel('Disease')\n",
    "plt.xticks(rotation=45)\n",
    "plt.tight_layout()\n",
    "plt.show()"
   ]
  },
  {
   "cell_type": "code",
   "execution_count": null,
   "id": "72e668af",
   "metadata": {},
   "outputs": [],
   "source": [
    "X = df.drop('disease', axis=1)\n",
    "y = df['disease']\n",
    "X_train, X_test, y_train, y_test = train_test_split(X, y, test_size=0.25, random_state=42)"
   ]
  },
  {
   "cell_type": "code",
   "execution_count": null,
   "id": "477237d2",
   "metadata": {},
   "outputs": [],
   "source": [
    "model = MultinomialNB()\n",
    "model.fit(X_train, y_train)"
   ]
  },
  {
   "cell_type": "code",
   "execution_count": null,
   "id": "b41086f1",
   "metadata": {},
   "outputs": [],
   "source": [
    "y_pred = model.predict(X_test)\n",
    "print(\"Accuracy:\", accuracy_score(y_test, y_pred))\n",
    "print(classification_report(y_test, y_pred))"
   ]
  },
  {
   "cell_type": "code",
   "execution_count": null,
   "id": "a8a10add",
   "metadata": {},
   "outputs": [],
   "source": [
    "sample = pd.DataFrame([[1, 1, 1, 1, 1]], columns=X.columns)\n",
    "prediction = model.predict(sample)\n",
    "print(\"Predicted Disease:\", prediction[0])"
   ]
  }
 ],
 "metadata": {},
 "nbformat": 4,
 "nbformat_minor": 5
}
