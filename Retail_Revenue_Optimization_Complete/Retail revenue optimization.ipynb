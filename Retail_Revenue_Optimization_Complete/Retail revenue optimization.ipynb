# Retail Revenue Optimization Project
# By Meghana Ankam

import pandas as pd
import matplotlib.pyplot as plt

# Load dataset
df = pd.read_csv("retail_data.csv", encoding='ISO-8859-1')

# ---------------------------
# 1. Data Cleaning
# ---------------------------
df = df[df['Quantity'] > 0]
df = df[df['UnitPrice'] > 0]
df.dropna(subset=['CustomerID'], inplace=True)

# ---------------------------
# 2. Revenue Calculation
# ---------------------------
df['Revenue'] = df['Quantity'] * df['UnitPrice']
df['InvoiceDate'] = pd.to_datetime(df['InvoiceDate'])
df['Month'] = df['InvoiceDate'].dt.to_period('M')

# ---------------------------
# 3. Monthly Revenue Trend (2011)
# ---------------------------
monthly_rev = df[df['InvoiceDate'].dt.year == 2011].groupby('Month')['Revenue'].sum()

plt.figure(figsize=(10, 5))
monthly_rev.plot(kind='line', marker='o', color='orange')
plt.title('Monthly Revenue Trend (2011)', fontsize=14)
plt.xlabel('Month')
plt.ylabel('Revenue')
plt.grid(True)
plt.tight_layout()
plt.savefig("monthly_revenue.png")
plt.show()

# ---------------------------
# 4. Top 10 Revenue-Generating Countries (excluding UK)
# ---------------------------
country_revenue = df[df['Country'] != 'United Kingdom'].groupby('Country')['Revenue'].sum()
top_countries = country_revenue.sort_values(ascending=False).head(10)

print("\nTop 10 Revenue-Generating Countries (excluding UK):")
print(top_countries)

# ---------------------------
# 5. Top 10 Revenue-Generating Customers
# ---------------------------
top_customers = df.groupby('CustomerID')['Revenue'].sum().sort_values(ascending=False).head(10)

print("\nTop 10 Revenue-Generating Customers:")
print(top_customers)

# ---------------------------
# 6. Demand by Country (excluding UK)
# ---------------------------
country_quantity = df[df['Country'] != 'United Kingdom'].groupby('Country')['Quantity'].sum().sort_values(ascending=False).head(10)

print("\nTop Countries by Quantity Sold (Demand):")
print(country_quantity)

